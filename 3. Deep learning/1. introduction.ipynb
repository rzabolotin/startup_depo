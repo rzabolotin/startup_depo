{
 "cells": [
  {
   "cell_type": "markdown",
   "metadata": {},
   "source": [
    "# Третья часть\n",
    "\n",
    "В этой части мы использовали глубокое обучение на снимках стыка, с целью определения на них частей стыка (самого стыка, болтов и соединительной накадки).\n",
    "\n",
    "В качестве рабочей лошадки мы использовали библиотеку detectron2, работающую на основе pytorch.\n",
    "\n",
    "Этот алгоритм мы реализовали после определения самих стыков во второй части. Он медленнее, и проверять им каждый кадр по нашему мнению нецелесообразно. Поэтому мы решили использовать его только на тех кадрах, на которых мы обнаружили стык."
   ]
  },
  {
   "cell_type": "markdown",
   "metadata": {},
   "source": [
    "Эту работу разобем на несколько частей.\n",
    "* Разметка тренировочного набора\n",
    "* Установка библиотек\n",
    "* Тренировка модели\n",
    "* Использование готовой модели для анализа кадра со стыком"
   ]
  },
  {
   "cell_type": "markdown",
   "metadata": {},
   "source": [
    "## Разметка тренировочного набора"
   ]
  },
  {
   "cell_type": "markdown",
   "metadata": {},
   "source": [
    "Для разметки тренировочного набора (картинок со стыком) мы использовали инструмент **labelme**  \n",
    "Требуется pyqt для работы.\n",
    "\n",
    "Мы взяли картинки, полученные из второй части нашего алгоритма, и разметили их в этой программе.  \n",
    "\n",
    "Получили описание объектов для каждой картинки."
   ]
  },
  {
   "cell_type": "code",
   "execution_count": 1,
   "metadata": {},
   "outputs": [],
   "source": [
    "#!pip install labelme"
   ]
  },
  {
   "cell_type": "markdown",
   "metadata": {},
   "source": [
    "Подробнее об его установке можно почитать [тут](https://medium.com/@tingyan.deng/how-to-download-labelme-for-image-segmentation-tasks-b5668ecd0f29)  \n",
    "\n",
    "Пример процесса разметки данных:"
   ]
  },
  {
   "cell_type": "markdown",
   "metadata": {},
   "source": [
    "![SegmentLocal](../docs/labelme.gif \"segment\")"
   ]
  },
  {
   "cell_type": "markdown",
   "metadata": {},
   "source": [
    "## Преобразование файлов аннотаций в формат COCO"
   ]
  },
  {
   "cell_type": "markdown",
   "metadata": {},
   "source": [
    "Мы получили json файлы описания к каждому размеченному кадру.  \n",
    "Но чтобы \"скормить\" это детектрону удобно скомпоновать датасет в формат COCO.  \n",
    "Воспользуемся библиотекой `labelme2coco`"
   ]
  },
  {
   "cell_type": "code",
   "execution_count": 5,
   "metadata": {},
   "outputs": [],
   "source": [
    "#!pip install labelme2coco"
   ]
  },
  {
   "cell_type": "code",
   "execution_count": 7,
   "metadata": {},
   "outputs": [],
   "source": [
    "import labelme2coco\n",
    "\n",
    "# set directory that contains labelme annotations and image files\n",
    "labelme_folder = \"../data/finded_joint\"\n",
    "\n",
    "# set path for coco json to be saved\n",
    "save_json_path = \"../data/coco_annotations.json\"\n",
    "\n",
    "# conert labelme annotations to coco\n",
    "labelme2coco.convert(labelme_folder, save_json_path)"
   ]
  },
  {
   "cell_type": "markdown",
   "metadata": {},
   "source": [
    "# Итоги"
   ]
  },
  {
   "cell_type": "markdown",
   "metadata": {},
   "source": [
    "В дальнейшем мы обучили модель на наборе `RZHD_data` из 82 размеченных изображений стыков.  \n",
    "\n",
    "\n",
    "Другйо пример разметки и обучения модели detectron 2 можно посмотреть в [этой статье](https://gilberttanner.com/blog/detectron2-train-a-instance-segmentation-model)\n"
   ]
  },
  {
   "cell_type": "code",
   "execution_count": null,
   "metadata": {},
   "outputs": [],
   "source": []
  }
 ],
 "metadata": {
  "kernelspec": {
   "display_name": "Python 3",
   "language": "python",
   "name": "python3"
  },
  "language_info": {
   "codemirror_mode": {
    "name": "ipython",
    "version": 3
   },
   "file_extension": ".py",
   "mimetype": "text/x-python",
   "name": "python",
   "nbconvert_exporter": "python",
   "pygments_lexer": "ipython3",
   "version": "3.8.5"
  },
  "toc": {
   "base_numbering": 1,
   "nav_menu": {},
   "number_sections": true,
   "sideBar": true,
   "skip_h1_title": false,
   "title_cell": "Table of Contents",
   "title_sidebar": "Contents",
   "toc_cell": false,
   "toc_position": {},
   "toc_section_display": true,
   "toc_window_display": false
  },
  "varInspector": {
   "cols": {
    "lenName": 16,
    "lenType": 16,
    "lenVar": 40
   },
   "kernels_config": {
    "python": {
     "delete_cmd_postfix": "",
     "delete_cmd_prefix": "del ",
     "library": "var_list.py",
     "varRefreshCmd": "print(var_dic_list())"
    },
    "r": {
     "delete_cmd_postfix": ") ",
     "delete_cmd_prefix": "rm(",
     "library": "var_list.r",
     "varRefreshCmd": "cat(var_dic_list()) "
    }
   },
   "types_to_exclude": [
    "module",
    "function",
    "builtin_function_or_method",
    "instance",
    "_Feature"
   ],
   "window_display": false
  }
 },
 "nbformat": 4,
 "nbformat_minor": 4
}
